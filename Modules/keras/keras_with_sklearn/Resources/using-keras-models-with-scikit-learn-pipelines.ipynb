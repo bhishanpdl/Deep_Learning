{
 "cells": [
  {
   "cell_type": "markdown",
   "metadata": {
    "_cell_guid": "b1076dfc-b9ad-4769-8c92-a6c4dae69d19",
    "_uuid": "8f2839f25d086af736a60e9eeb907d3b93b6e0e5",
    "collapsed": true
   },
   "source": [
    "# Using keras models with scikit-learn pipelines\n",
    "\n",
    "## Discussion\n",
    "\n",
    "`sklearn` is Python's general purpose machine learning library, and it features a lot of utilities not just for building learners but for pipelining and structuring them as well. `keras` models don't work with `sklearn` out of the box, but they can be made compatible quite easily. To be compatible with `sklearn` utilities on a basic level a learner need only be a class object with `fit`, `predict`, and `score` methods (and optionally a `predict_proba`), so you can write a quick object wrapper that delegates these methods on a `keras` object.\n",
    "\n",
    "However this is unnecessary because `keras` comes with a wrapper built in. This is described in the `keras` docs [here](https://keras.io/scikit-learn-api/).\n",
    "\n",
    "There are two wrappers, one for classifiers and one for regressors. The signatures are `keras.wrappers.scikit_learn.KerasClassifier(build_fn=None, **sk_params)` and `keras.wrappers.scikit_learn.KerasRegressor(build_fn=None, **sk_params)` respectively.\n",
    "\n",
    "The `build_fn` parameter should be given a factory function (or a functional object, e.g. an object that defines a `__call__()` method) that returns the model.\n",
    "\n",
    "The `sk_params`parameter can be used to pass parameters to the `fit`, `predict`, `predict_proba`, and `score` methods, which are the aforementioned \"standard interface\" methods for a scikit-learn compatible predictor. These methods by default will take on the values that you set for them inside of the factory function, but this parameter does is it allows you to change them manually at call time. To change parameters unambiguously, use a dictionary whose first-level keys is the methods whose parameters are being modified. To change parameters all at once, pass a top-level key-value pair; this will be passed down to all of these methods."
   ]
  },
  {
   "cell_type": "markdown",
   "metadata": {
    "_uuid": "f52ae25694875ed25b729e615a465a3f6ac8b4ad"
   },
   "source": [
    "## Demonstration\n",
    "\n",
    "A quick demonstration of this wrapper follows. In this code, we will perform cross validation on the Keras model accuracy using the `StatifiedKFold` method in the `sklearn` library."
   ]
  },
  {
   "cell_type": "code",
   "execution_count": 1,
   "metadata": {
    "_uuid": "fe3e4baf9a9e4949087f8eb79f44d72510ffc738",
    "collapsed": true
   },
   "outputs": [
    {
     "name": "stderr",
     "output_type": "stream",
     "text": [
      "Using TensorFlow backend.\n"
     ]
    }
   ],
   "source": [
    "#\n",
    "# Generate dummy data.\n",
    "#\n",
    "\n",
    "import keras\n",
    "from keras.models import Sequential\n",
    "from keras.layers import Dense, Dropout, Activation\n",
    "from keras.optimizers import SGD\n",
    "\n",
    "# Generate dummy data\n",
    "import numpy as np\n",
    "import pandas as pd\n",
    "\n",
    "X_train = np.random.random((1000, 3))\n",
    "y_train = pd.get_dummies(np.argmax(X_train[:, :3], axis=1)).values\n",
    "X_test = np.random.random((100, 3))\n",
    "y_test = pd.get_dummies(np.argmax(X_test[:, :3], axis=1)).values"
   ]
  },
  {
   "cell_type": "code",
   "execution_count": 2,
   "metadata": {
    "_uuid": "94557bff7d90843cd0a4ffd5db07485c0819e5e0",
    "collapsed": true
   },
   "outputs": [],
   "source": [
    "#\n",
    "# Build a KerasClassifier wrapper object.\n",
    "# I had trouble getting the callable class approach to work. The method approach seems to be pretty universial anyway.\n",
    "#\n",
    "\n",
    "from keras.wrappers.scikit_learn import KerasClassifier\n",
    "\n",
    "# Doesn't work?\n",
    "# class TwoLayerFeedForward:\n",
    "#     def __call__():\n",
    "#         clf = Sequential()\n",
    "#         clf.add(Dense(9, activation='relu', input_dim=3))\n",
    "#         clf.add(Dense(9, activation='relu'))\n",
    "#         clf.add(Dense(3, activation='softmax'))\n",
    "#         clf.compile(loss='categorical_crossentropy', optimizer=SGD())\n",
    "#         return clf\n",
    "\n",
    "def twoLayerFeedForward():\n",
    "    clf = Sequential()\n",
    "    clf.add(Dense(9, activation='relu', input_dim=3))\n",
    "    clf.add(Dense(9, activation='relu'))\n",
    "    clf.add(Dense(3, activation='softmax'))\n",
    "    clf.compile(loss='categorical_crossentropy', optimizer=SGD(), metrics=[\"accuracy\"])\n",
    "    return clf\n",
    "\n",
    "\n",
    "# clf = KerasClassifier(TwoLayerFeedForward(), epochs=100, batch_size=500, verbose=0)\n",
    "clf = KerasClassifier(twoLayerFeedForward, epochs=100, batch_size=500, verbose=0)"
   ]
  },
  {
   "cell_type": "code",
   "execution_count": 3,
   "metadata": {
    "_uuid": "2e97ed7731fcc955597280396a0431a2d84d1498",
    "collapsed": true
   },
   "outputs": [],
   "source": [
    "from sklearn.model_selection import StratifiedKFold, cross_val_score\n",
    "\n",
    "trans = StratifiedKFold(n_splits=10, shuffle=True, random_state=42)\n",
    "\n",
    "import pandas as pd\n",
    "\n",
    "# Keras classifiers work with one hot encoded categorical columns (e.g. [[1 0 0], [0 1 0], ...]).\n",
    "# StratifiedKFold works with categorical encoded columns (e.g. [1 2 3 1 ...]).\n",
    "# This requires juggling the representation at shuffle time versus at runtime.\n",
    "scores = []\n",
    "for train_idx, test_idx in trans.split(X_train, y_train.argmax(axis=1)):\n",
    "    X_cv, y_cv = X_train[train_idx], pd.get_dummies(y_train.argmax(axis=1)[train_idx]).values\n",
    "    clf.fit(X_cv, y_cv)\n",
    "    scores.append(clf.score(X_cv, y_cv))"
   ]
  },
  {
   "cell_type": "code",
   "execution_count": 4,
   "metadata": {
    "_uuid": "d9c69f6e84c11a5bd44df1ef906914d5e2b24dbd",
    "collapsed": true
   },
   "outputs": [
    {
     "data": {
      "text/plain": [
       "[0.6051167959763821,\n",
       " 0.353726363188698,\n",
       " 0.4749721960310676,\n",
       " 0.6106785153918325,\n",
       " 0.6377777920828925,\n",
       " 0.48777778612242806,\n",
       " 0.671111093627082,\n",
       " 0.4333333439297146,\n",
       " 0.6274944457933802,\n",
       " 0.6252771604087559]"
      ]
     },
     "execution_count": 4,
     "metadata": {},
     "output_type": "execute_result"
    }
   ],
   "source": [
    "scores"
   ]
  },
  {
   "cell_type": "markdown",
   "metadata": {
    "_uuid": "36d38e9093f203dd23dc4bfd377602d8cb883516"
   },
   "source": [
    "## Conclusion\n",
    "\n",
    "As you can see the accuracy scores that we achieve vary widely between consequetive runs, indicating that our model has not yet found enough signal in the dataset (we should increase the number of epochs, increase the learning rate, or decrease the batch size, or all of the above).\n",
    "\n",
    "I couldn't get the callable class approach to work, unfortunately. I didn't want to get bogged down digging too deep, but in poking around online I noticed that every example I see uses a factory function to build the Keras classifier...\n",
    "\n",
    "There are still some awkward edges around the interaction of `keras` and `sklearn`. In this example we see that we have to perform representational transformations on the target columns from one-hot to a categorical encoding to one-hot encoding again. So it seems that whilst having this pipeline code helps a lot, there's still some glue code that you have to write yourself!\n",
    "\n",
    "[Wrapping Keras learners in scikit-learn pipelines](https://www.kaggle.com/residentmario/pipelines-with-linux-gamers) seems like a good way to go for production development environments.\n",
    "\n",
    "You can use Keras from within a `scikit-learn` pipeline as a grid search target: https://machinelearningmastery.com/grid-search-hyperparameters-deep-learning-models-python-keras/."
   ]
  }
 ],
 "metadata": {
  "kernelspec": {
   "display_name": "Python 3",
   "language": "python",
   "name": "python3"
  },
  "language_info": {
   "codemirror_mode": {
    "name": "ipython",
    "version": 3
   },
   "file_extension": ".py",
   "mimetype": "text/x-python",
   "name": "python",
   "nbconvert_exporter": "python",
   "pygments_lexer": "ipython3",
   "version": "3.6.6"
  }
 },
 "nbformat": 4,
 "nbformat_minor": 1
}
