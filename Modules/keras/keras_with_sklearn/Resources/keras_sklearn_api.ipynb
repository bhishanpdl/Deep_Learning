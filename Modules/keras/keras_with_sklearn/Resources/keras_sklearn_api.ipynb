{
  "nbformat": 4,
  "nbformat_minor": 0,
  "metadata": {
    "colab": {
      "name": "so_qn.ipynb",
      "provenance": [],
      "collapsed_sections": []
    },
    "kernelspec": {
      "display_name": "Python 3",
      "language": "python",
      "name": "python3"
    },
    "language_info": {
      "codemirror_mode": {
        "name": "ipython",
        "version": 3
      },
      "file_extension": ".py",
      "mimetype": "text/x-python",
      "name": "python",
      "nbconvert_exporter": "python",
      "pygments_lexer": "ipython3",
      "version": "3.7.0"
    }
  },
  "cells": [
    {
      "cell_type": "code",
      "metadata": {
        "id": "fcnPYmzKu4_T",
        "outputId": "f430ab28-e1ea-49e7-86bc-f7efab4445df",
        "colab": {
          "base_uri": "https://localhost:8080/",
          "height": 105
        }
      },
      "source": [
        "%%time\n",
        "import numpy as np\n",
        "import pandas as pd\n",
        "import tensorflow as tf\n",
        "from tensorflow import keras\n",
        "from sklearn.model_selection import train_test_split\n",
        "\n",
        "from keras.wrappers.scikit_learn import KerasClassifier\n",
        "from sklearn.model_selection import cross_val_score\n",
        "from sklearn.model_selection import StratifiedKFold\n",
        "\n",
        "import os\n",
        "import random\n",
        "SEED = 100\n",
        "os.environ['PYTHONHASHSEED'] = str(SEED)\n",
        "np.random.seed(SEED)\n",
        "random.seed(SEED)\n",
        "tf.random.set_seed(SEED)\n",
        "\n",
        "# load the data\n",
        "ifile = \"https://github.com/bhishanpdl/Datasets/blob/master/Projects/Fraud_detection/raw/creditcard.csv.zip?raw=true\"\n",
        "df = pd.read_csv(ifile,compression='zip')\n",
        "\n",
        "# train test split\n",
        "target = 'Class'\n",
        "Xtrain,Xtest,ytrain,ytest = train_test_split(df.drop([target],axis=1),\n",
        "    df[target],test_size=0.2,stratify=df[target],random_state=SEED)\n",
        "\n",
        "print(f\"Xtrain shape: {Xtrain.shape}\")\n",
        "print(f\"ytrain shape: {ytrain.shape}\")\n",
        "\n",
        "# build the model\n",
        "def build_fn(n_feats):\n",
        "    model = keras.models.Sequential()\n",
        "    model.add(keras.layers.Dense(256, activation=\"relu\", input_shape=(n_feats,)))\n",
        "    model.add(keras.layers.Dense(256, activation=\"relu\"))\n",
        "    model.add(keras.layers.Dropout(0.3))\n",
        "    model.add(keras.layers.Dense(256, activation=\"relu\"))\n",
        "    model.add(keras.layers.Dropout(0.3))\n",
        "\n",
        "    # last layer is dense 1 for binary sigmoid\n",
        "    model.add(keras.layers.Dense(1, activation=\"sigmoid\"))\n",
        "\n",
        "    # compile\n",
        "    model.compile(loss='binary_crossentropy',\n",
        "                optimizer=keras.optimizers.Adam(1e-4),\n",
        "                metrics=['Recall'])\n",
        "\n",
        "    return model\n",
        "\n",
        "# fitting the model\n",
        "n_feats      = Xtrain.shape[-1]\n",
        "counts = np.bincount(ytrain)\n",
        "weight_for_0 = 1.0 / counts[0]\n",
        "weight_for_1 = 1.0 / counts[1]\n",
        "class_weight = {0: weight_for_0, 1: weight_for_1}\n",
        "FIT_PARAMS   = {'class_weight' : class_weight,'validation_split':0.2}\n",
        "\n",
        "clf_keras = KerasClassifier(build_fn=build_fn,\n",
        "                            n_feats=n_feats, # custom argument\n",
        "                            epochs=30,\n",
        "                            batch_size=2048,\n",
        "                            verbose=2)\n",
        "\n",
        "skf = StratifiedKFold(n_splits=3, shuffle=True, random_state=SEED)\n",
        "results = cross_val_score(clf_keras, Xtrain, ytrain,\n",
        "                          cv=skf,\n",
        "                          scoring='recall',\n",
        "                          fit_params = FIT_PARAMS,\n",
        "                          n_jobs = -1,\n",
        "                          error_score='raise'\n",
        "                          )\n",
        "\n",
        "print('results', results)"
      ],
      "execution_count": 2,
      "outputs": [
        {
          "output_type": "stream",
          "text": [
            "Xtrain shape: (227845, 30)\n",
            "ytrain shape: (227845,)\n",
            "results [0.99242424 0.97709924 0.99236641]\n",
            "CPU times: user 3.32 s, sys: 225 ms, total: 3.55 s\n",
            "Wall time: 4min 25s\n"
          ],
          "name": "stdout"
        }
      ]
    },
    {
      "cell_type": "code",
      "metadata": {
        "id": "utbaHsrV6N5d"
      },
      "source": [
        ""
      ],
      "execution_count": null,
      "outputs": []
    }
  ]
}