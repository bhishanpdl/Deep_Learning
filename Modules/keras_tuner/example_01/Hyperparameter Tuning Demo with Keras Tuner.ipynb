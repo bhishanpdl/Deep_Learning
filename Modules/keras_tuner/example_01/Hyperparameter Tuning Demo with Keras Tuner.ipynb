{
 "cells": [
  {
   "cell_type": "markdown",
   "metadata": {
    "toc": true
   },
   "source": [
    "<h1>Table of Contents<span class=\"tocSkip\"></span></h1>\n",
    "<div class=\"toc\"><ul class=\"toc-item\"><li><span><a href=\"#Hyperparameter-Tuning-Demo-using-Keras-Tuner\" data-toc-modified-id=\"Hyperparameter-Tuning-Demo-using-Keras-Tuner-1\"><span class=\"toc-item-num\">1&nbsp;&nbsp;</span>Hyperparameter Tuning Demo using Keras Tuner</a></span><ul class=\"toc-item\"><li><ul class=\"toc-item\"><li><span><a href=\"#Load-the-data\" data-toc-modified-id=\"Load-the-data-1.0.1\"><span class=\"toc-item-num\">1.0.1&nbsp;&nbsp;</span>Load the data</a></span></li><li><span><a href=\"#Check-tensorflow-and-kerastuner-versions\" data-toc-modified-id=\"Check-tensorflow-and-kerastuner-versions-1.0.2\"><span class=\"toc-item-num\">1.0.2&nbsp;&nbsp;</span>Check tensorflow and kerastuner versions</a></span></li><li><span><a href=\"#Import-libraries\" data-toc-modified-id=\"Import-libraries-1.0.3\"><span class=\"toc-item-num\">1.0.3&nbsp;&nbsp;</span>Import libraries</a></span></li><li><span><a href=\"#Set-random-seeed\" data-toc-modified-id=\"Set-random-seeed-1.0.4\"><span class=\"toc-item-num\">1.0.4&nbsp;&nbsp;</span>Set random seeed</a></span></li><li><span><a href=\"#Model-without-Hyperparameter-Tuning\" data-toc-modified-id=\"Model-without-Hyperparameter-Tuning-1.0.5\"><span class=\"toc-item-num\">1.0.5&nbsp;&nbsp;</span>Model without Hyperparameter Tuning</a></span></li><li><span><a href=\"#Building-the-Hypermodel\" data-toc-modified-id=\"Building-the-Hypermodel-1.0.6\"><span class=\"toc-item-num\">1.0.6&nbsp;&nbsp;</span>Building the Hypermodel</a></span></li><li><span><a href=\"#Initialize-hypermodel\" data-toc-modified-id=\"Initialize-hypermodel-1.0.7\"><span class=\"toc-item-num\">1.0.7&nbsp;&nbsp;</span>Initialize hypermodel</a></span></li><li><span><a href=\"#Build-Random-Search-Tuner\" data-toc-modified-id=\"Build-Random-Search-Tuner-1.0.8\"><span class=\"toc-item-num\">1.0.8&nbsp;&nbsp;</span>Build Random Search Tuner</a></span></li><li><span><a href=\"#Run-Random-Search\" data-toc-modified-id=\"Run-Random-Search-1.0.9\"><span class=\"toc-item-num\">1.0.9&nbsp;&nbsp;</span>Run Random Search</a></span></li><li><span><a href=\"#Evaluate-Random-Search\" data-toc-modified-id=\"Evaluate-Random-Search-1.0.10\"><span class=\"toc-item-num\">1.0.10&nbsp;&nbsp;</span>Evaluate Random Search</a></span></li><li><span><a href=\"#Build,-Run-and-Evaluate-Hyperband-Tuner\" data-toc-modified-id=\"Build,-Run-and-Evaluate-Hyperband-Tuner-1.0.11\"><span class=\"toc-item-num\">1.0.11&nbsp;&nbsp;</span>Build, Run and Evaluate Hyperband Tuner</a></span></li><li><span><a href=\"#Build,-Run-and-Evaluate-Bayesian-Optimization-Tuner\" data-toc-modified-id=\"Build,-Run-and-Evaluate-Bayesian-Optimization-Tuner-1.0.12\"><span class=\"toc-item-num\">1.0.12&nbsp;&nbsp;</span>Build, Run and Evaluate Bayesian Optimization Tuner</a></span></li></ul></li></ul></li></ul></div>"
   ]
  },
  {
   "cell_type": "markdown",
   "metadata": {},
   "source": [
    "# Hyperparameter Tuning Demo using Keras Tuner"
   ]
  },
  {
   "cell_type": "markdown",
   "metadata": {},
   "source": [
    "### Load the data"
   ]
  },
  {
   "cell_type": "code",
   "execution_count": 1,
   "metadata": {
    "ExecuteTime": {
     "end_time": "2021-08-08T19:10:51.781236Z",
     "start_time": "2021-08-08T19:10:48.045231Z"
    }
   },
   "outputs": [],
   "source": [
    "from tensorflow.keras.datasets import boston_housing\n",
    "\n",
    "(x_train, y_train), (x_test, y_test) = boston_housing.load_data()"
   ]
  },
  {
   "cell_type": "markdown",
   "metadata": {},
   "source": [
    "### Check tensorflow and kerastuner versions"
   ]
  },
  {
   "cell_type": "code",
   "execution_count": 2,
   "metadata": {
    "ExecuteTime": {
     "end_time": "2021-08-08T19:10:52.417427Z",
     "start_time": "2021-08-08T19:10:51.784191Z"
    }
   },
   "outputs": [
    {
     "name": "stdout",
     "output_type": "stream",
     "text": [
      "2.5.0\n"
     ]
    },
    {
     "name": "stderr",
     "output_type": "stream",
     "text": [
      "/Users/poudel/opt/miniconda3/envs/tf2/lib/python3.7/site-packages/ipykernel_launcher.py:2: DeprecationWarning: `import kerastuner` is deprecated, please use `import keras_tuner`.\n",
      "  \n"
     ]
    }
   ],
   "source": [
    "import tensorflow as tf\n",
    "import keras_tuner as kt\n",
    "\n",
    "from tensorflow.keras import backend as K\n",
    "from tensorflow.keras.models import Sequential\n",
    "from tensorflow.keras.layers import Activation\n",
    "from tensorflow.keras.layers import Dense, Dropout\n",
    "from tensorflow.keras.optimizers import Adam\n",
    "from tensorflow.keras.metrics import categorical_crossentropy\n",
    "\n",
    "print(tf.__version__)"
   ]
  },
  {
   "cell_type": "markdown",
   "metadata": {},
   "source": [
    "### Import libraries"
   ]
  },
  {
   "cell_type": "code",
   "execution_count": 3,
   "metadata": {
    "ExecuteTime": {
     "end_time": "2021-08-08T19:10:52.435425Z",
     "start_time": "2021-08-08T19:10:52.420345Z"
    }
   },
   "outputs": [],
   "source": [
    "from sklearn.preprocessing import StandardScaler\n",
    "from tensorflow.keras import models, layers\n",
    "from keras_tuner import HyperModel, RandomSearch, Hyperband, BayesianOptimization"
   ]
  },
  {
   "cell_type": "markdown",
   "metadata": {},
   "source": [
    "### Set random seeed"
   ]
  },
  {
   "cell_type": "code",
   "execution_count": 4,
   "metadata": {
    "ExecuteTime": {
     "end_time": "2021-08-08T19:10:52.457644Z",
     "start_time": "2021-08-08T19:10:52.448187Z"
    }
   },
   "outputs": [],
   "source": [
    "from numpy.random import seed\n",
    "seed(42)\n",
    "import tensorflow\n",
    "tensorflow.random.set_seed(42)"
   ]
  },
  {
   "cell_type": "markdown",
   "metadata": {},
   "source": [
    "### Model without Hyperparameter Tuning"
   ]
  },
  {
   "cell_type": "code",
   "execution_count": 5,
   "metadata": {
    "ExecuteTime": {
     "end_time": "2021-08-08T19:10:52.582688Z",
     "start_time": "2021-08-08T19:10:52.509430Z"
    }
   },
   "outputs": [],
   "source": [
    "scaler = StandardScaler()\n",
    "scaler.fit(x_train)\n",
    "\n",
    "x_train_scaled = scaler.transform(x_train)\n",
    "x_test_scaled = scaler.transform(x_test)\n",
    "\n",
    "model = models.Sequential()\n",
    "model.add(layers.Dense(8, activation='relu', input_shape=(x_train.shape[1],),\n",
    "                       kernel_initializer='zeros', bias_initializer='zeros'))\n",
    "model.add(layers.Dense(16, activation='relu', kernel_initializer='zeros',\n",
    "                       bias_initializer='zeros'))\n",
    "model.add(layers.Dropout(0.1))\n",
    "model.add(layers.Dense(1))\n",
    "\n",
    "model.compile(optimizer='rmsprop',loss='mse',metrics=['mse'])"
   ]
  },
  {
   "cell_type": "code",
   "execution_count": 6,
   "metadata": {
    "ExecuteTime": {
     "end_time": "2021-08-08T19:10:54.870510Z",
     "start_time": "2021-08-08T19:10:52.585688Z"
    },
    "scrolled": false
   },
   "outputs": [
    {
     "name": "stdout",
     "output_type": "stream",
     "text": [
      "Epoch 1/10\n",
      "11/11 [==============================] - 1s 17ms/step - loss: 571.3268 - mse: 571.3268 - val_loss: 642.7367 - val_mse: 642.7367\n",
      "Epoch 2/10\n",
      "11/11 [==============================] - 0s 5ms/step - loss: 570.6835 - mse: 570.6835 - val_loss: 642.1722 - val_mse: 642.1722\n",
      "Epoch 3/10\n",
      "11/11 [==============================] - 0s 6ms/step - loss: 570.1755 - mse: 570.1755 - val_loss: 641.6613 - val_mse: 641.6613\n",
      "Epoch 4/10\n",
      "11/11 [==============================] - 0s 3ms/step - loss: 569.6956 - mse: 569.6956 - val_loss: 641.1359 - val_mse: 641.1359\n",
      "Epoch 5/10\n",
      "11/11 [==============================] - 0s 4ms/step - loss: 569.2086 - mse: 569.2086 - val_loss: 640.6212 - val_mse: 640.6212\n",
      "Epoch 6/10\n",
      "11/11 [==============================] - 0s 8ms/step - loss: 568.7260 - mse: 568.7260 - val_loss: 640.1004 - val_mse: 640.1004\n",
      "Epoch 7/10\n",
      "11/11 [==============================] - 0s 3ms/step - loss: 568.2415 - mse: 568.2415 - val_loss: 639.5798 - val_mse: 639.5798\n",
      "Epoch 8/10\n",
      "11/11 [==============================] - 0s 5ms/step - loss: 567.7541 - mse: 567.7541 - val_loss: 639.0512 - val_mse: 639.0512\n",
      "Epoch 9/10\n",
      "11/11 [==============================] - 0s 4ms/step - loss: 567.2688 - mse: 567.2688 - val_loss: 638.5443 - val_mse: 638.5443\n",
      "Epoch 10/10\n",
      "11/11 [==============================] - 0s 5ms/step - loss: 566.7902 - mse: 566.7902 - val_loss: 638.0418 - val_mse: 638.0418\n"
     ]
    }
   ],
   "source": [
    "history = model.fit(x_train_scaled, y_train, validation_split=0.2, epochs=10)"
   ]
  },
  {
   "cell_type": "code",
   "execution_count": 7,
   "metadata": {
    "ExecuteTime": {
     "end_time": "2021-08-08T19:10:55.011496Z",
     "start_time": "2021-08-08T19:10:54.876089Z"
    }
   },
   "outputs": [
    {
     "name": "stdout",
     "output_type": "stream",
     "text": [
      "4/4 [==============================] - 0s 3ms/step - loss: 610.3947 - mse: 610.3947\n"
     ]
    }
   ],
   "source": [
    "mse = model.evaluate(x_test_scaled, y_test)[1]"
   ]
  },
  {
   "cell_type": "code",
   "execution_count": 8,
   "metadata": {
    "ExecuteTime": {
     "end_time": "2021-08-08T19:10:55.027129Z",
     "start_time": "2021-08-08T19:10:55.017975Z"
    }
   },
   "outputs": [
    {
     "name": "stdout",
     "output_type": "stream",
     "text": [
      "MSE without tuning: 610.3947143554688\n"
     ]
    }
   ],
   "source": [
    "print('MSE without tuning: {}'.format(mse))"
   ]
  },
  {
   "cell_type": "markdown",
   "metadata": {},
   "source": [
    "### Building the Hypermodel"
   ]
  },
  {
   "cell_type": "code",
   "execution_count": 9,
   "metadata": {
    "ExecuteTime": {
     "end_time": "2021-08-08T19:10:55.040196Z",
     "start_time": "2021-08-08T19:10:55.030288Z"
    }
   },
   "outputs": [],
   "source": [
    "class RegressionHyperModel(HyperModel):\n",
    "    def __init__(self, input_shape):\n",
    "        self.input_shape = input_shape\n",
    "\n",
    "    def build(self, hp):\n",
    "        model = Sequential()\n",
    "        model.add(\n",
    "            layers.Dense(\n",
    "                units=hp.Int('units', 8, 64, 4, default=8),\n",
    "                activation=hp.Choice(\n",
    "                    'dense_activation',\n",
    "                    values=['relu', 'tanh', 'sigmoid'],\n",
    "                    default='relu'),\n",
    "                input_shape=input_shape,\n",
    "                kernel_initializer='zeros', bias_initializer='zeros'\n",
    "            )\n",
    "        )\n",
    "        \n",
    "        model.add(\n",
    "            layers.Dense(\n",
    "                units=hp.Int('units', 16, 64, 4, default=16),\n",
    "                activation=hp.Choice(\n",
    "                    'dense_activation',\n",
    "                    values=['relu', 'tanh', 'sigmoid'],\n",
    "                    default='relu'),\n",
    "                kernel_initializer='zeros', bias_initializer='zeros'\n",
    "            )\n",
    "        )\n",
    "        \n",
    "        model.add(\n",
    "            layers.Dropout(\n",
    "                hp.Float(\n",
    "                    'dropout',\n",
    "                    min_value=0.0,\n",
    "                    max_value=0.1,\n",
    "                    default=0.005,\n",
    "                    step=0.01)\n",
    "            )\n",
    "        )\n",
    "        \n",
    "        model.add(layers.Dense(1, kernel_initializer='zeros', bias_initializer='zeros'))\n",
    "        \n",
    "        model.compile(\n",
    "            optimizer='rmsprop',loss='mse',metrics=['mse']\n",
    "        )\n",
    "        \n",
    "        return model"
   ]
  },
  {
   "cell_type": "markdown",
   "metadata": {},
   "source": [
    "### Initialize hypermodel"
   ]
  },
  {
   "cell_type": "code",
   "execution_count": 10,
   "metadata": {
    "ExecuteTime": {
     "end_time": "2021-08-08T19:10:55.057629Z",
     "start_time": "2021-08-08T19:10:55.043210Z"
    }
   },
   "outputs": [],
   "source": [
    "input_shape = (x_train.shape[1],)\n",
    "hypermodel = RegressionHyperModel(input_shape)"
   ]
  },
  {
   "cell_type": "markdown",
   "metadata": {},
   "source": [
    "### Build Random Search Tuner"
   ]
  },
  {
   "cell_type": "code",
   "execution_count": 11,
   "metadata": {
    "ExecuteTime": {
     "end_time": "2021-08-08T19:10:55.324624Z",
     "start_time": "2021-08-08T19:10:55.086942Z"
    }
   },
   "outputs": [],
   "source": [
    "tuner_rs = RandomSearch(\n",
    "            hypermodel,\n",
    "            objective='mse',\n",
    "            seed=42,\n",
    "            max_trials=10,\n",
    "            executions_per_trial=2, overwrite=True\n",
    "        )"
   ]
  },
  {
   "cell_type": "markdown",
   "metadata": {},
   "source": [
    "### Run Random Search"
   ]
  },
  {
   "cell_type": "code",
   "execution_count": 12,
   "metadata": {
    "ExecuteTime": {
     "end_time": "2021-08-08T19:11:14.046650Z",
     "start_time": "2021-08-08T19:10:55.327026Z"
    },
    "scrolled": true
   },
   "outputs": [
    {
     "name": "stdout",
     "output_type": "stream",
     "text": [
      "INFO:tensorflow:Oracle triggered exit\n"
     ]
    }
   ],
   "source": [
    "tuner_rs.search(x_train_scaled, y_train, epochs=10, validation_split=0.2, verbose=0)"
   ]
  },
  {
   "cell_type": "markdown",
   "metadata": {},
   "source": [
    "### Evaluate Random Search"
   ]
  },
  {
   "cell_type": "code",
   "execution_count": 13,
   "metadata": {
    "ExecuteTime": {
     "end_time": "2021-08-08T19:11:14.487127Z",
     "start_time": "2021-08-08T19:11:14.051143Z"
    }
   },
   "outputs": [
    {
     "name": "stdout",
     "output_type": "stream",
     "text": [
      "4/4 [==============================] - 0s 1ms/step - loss: 561.7134 - mse: 561.7134\n"
     ]
    }
   ],
   "source": [
    "best_model = tuner_rs.get_best_models(num_models=1)[0]\n",
    "mse_rs = best_model.evaluate(x_test_scaled, y_test)[1]"
   ]
  },
  {
   "cell_type": "code",
   "execution_count": 14,
   "metadata": {
    "ExecuteTime": {
     "end_time": "2021-08-08T19:11:14.493058Z",
     "start_time": "2021-08-08T19:11:14.488952Z"
    }
   },
   "outputs": [
    {
     "name": "stdout",
     "output_type": "stream",
     "text": [
      "Random search MSE:  561.71337890625\n"
     ]
    }
   ],
   "source": [
    "print('Random search MSE: ', mse_rs)"
   ]
  },
  {
   "cell_type": "markdown",
   "metadata": {},
   "source": [
    "### Build, Run and Evaluate Hyperband Tuner"
   ]
  },
  {
   "cell_type": "code",
   "execution_count": 15,
   "metadata": {
    "ExecuteTime": {
     "end_time": "2021-08-08T19:11:29.693267Z",
     "start_time": "2021-08-08T19:11:14.496312Z"
    },
    "scrolled": true
   },
   "outputs": [
    {
     "name": "stdout",
     "output_type": "stream",
     "text": [
      "INFO:tensorflow:Oracle triggered exit\n",
      "4/4 [==============================] - 0s 2ms/step - loss: 589.9302 - mse: 589.9302\n"
     ]
    }
   ],
   "source": [
    "tuner_hb = Hyperband(\n",
    "            hypermodel,\n",
    "            max_epochs=5,\n",
    "            objective='mse',\n",
    "            seed=42,\n",
    "            executions_per_trial=2,\n",
    "            directory='hb'\n",
    "        )\n",
    "\n",
    "tuner_hb.search(x_train_scaled, y_train, epochs=10, validation_split=0.2, verbose=0)\n",
    "\n",
    "best_model = tuner_hb.get_best_models(num_models=1)[0]\n",
    "mse_hb = best_model.evaluate(x_test_scaled, y_test)[1]"
   ]
  },
  {
   "cell_type": "code",
   "execution_count": 16,
   "metadata": {
    "ExecuteTime": {
     "end_time": "2021-08-08T19:11:29.702184Z",
     "start_time": "2021-08-08T19:11:29.695577Z"
    }
   },
   "outputs": [
    {
     "name": "stdout",
     "output_type": "stream",
     "text": [
      "Hyperband MSE:  589.93017578125\n"
     ]
    }
   ],
   "source": [
    "print('Hyperband MSE: ', mse_hb)"
   ]
  },
  {
   "cell_type": "markdown",
   "metadata": {},
   "source": [
    "### Build, Run and Evaluate Bayesian Optimization Tuner"
   ]
  },
  {
   "cell_type": "code",
   "execution_count": 17,
   "metadata": {
    "ExecuteTime": {
     "end_time": "2021-08-08T19:11:49.763666Z",
     "start_time": "2021-08-08T19:11:29.723896Z"
    }
   },
   "outputs": [
    {
     "name": "stdout",
     "output_type": "stream",
     "text": [
      "WARNING:tensorflow:Unresolved object in checkpoint: (root).optimizer.iter\n",
      "WARNING:tensorflow:Unresolved object in checkpoint: (root).optimizer.decay\n",
      "WARNING:tensorflow:Unresolved object in checkpoint: (root).optimizer.learning_rate\n",
      "WARNING:tensorflow:Unresolved object in checkpoint: (root).optimizer.momentum\n",
      "WARNING:tensorflow:Unresolved object in checkpoint: (root).optimizer.rho\n",
      "WARNING:tensorflow:A checkpoint was restored (e.g. tf.train.Checkpoint.restore or tf.keras.Model.load_weights) but not all checkpointed values were used. See above for specific issues. Use expect_partial() on the load status object, e.g. tf.train.Checkpoint.restore(...).expect_partial(), to silence these warnings, or use assert_consumed() to make the check explicit. See https://www.tensorflow.org/guide/checkpoint#loading_mechanics for details.\n"
     ]
    },
    {
     "name": "stderr",
     "output_type": "stream",
     "text": [
      "/Users/poudel/opt/miniconda3/envs/tf2/lib/python3.7/site-packages/keras_tuner/tuners/bayesian.py:75: RuntimeWarning: invalid value encountered in true_divide\n",
      "  self._y_train = (self._y_train - self._y_train_mean) / self._y_train_std\n"
     ]
    },
    {
     "name": "stdout",
     "output_type": "stream",
     "text": [
      "INFO:tensorflow:Oracle triggered exit\n",
      "4/4 [==============================] - 0s 2ms/step - loss: 320.1334 - mse: 320.1334\n"
     ]
    }
   ],
   "source": [
    "tuner_bo = BayesianOptimization(\n",
    "            hypermodel,\n",
    "            objective='mse',\n",
    "            max_trials=10,\n",
    "            seed=42,\n",
    "            executions_per_trial=2,\n",
    "            directory='bo'\n",
    "        )\n",
    "\n",
    "tuner_bo.search(x_train_scaled, y_train, epochs=10, validation_split=0.2, verbose=0)\n",
    "\n",
    "best_model = tuner_bo.get_best_models(num_models=1)[0]\n",
    "mse_bo = best_model.evaluate(x_test_scaled, y_test)[1]"
   ]
  },
  {
   "cell_type": "code",
   "execution_count": 18,
   "metadata": {
    "ExecuteTime": {
     "end_time": "2021-08-08T19:11:49.773087Z",
     "start_time": "2021-08-08T19:11:49.766963Z"
    }
   },
   "outputs": [
    {
     "name": "stdout",
     "output_type": "stream",
     "text": [
      "Bayesian Optimization MSE:  320.13336181640625\n"
     ]
    }
   ],
   "source": [
    "print('Bayesian Optimization MSE: ', mse_bo)"
   ]
  },
  {
   "cell_type": "code",
   "execution_count": null,
   "metadata": {},
   "outputs": [],
   "source": []
  }
 ],
 "metadata": {
  "kernelspec": {
   "display_name": "Python (tf2)",
   "language": "python",
   "name": "tf2"
  },
  "language_info": {
   "codemirror_mode": {
    "name": "ipython",
    "version": 3
   },
   "file_extension": ".py",
   "mimetype": "text/x-python",
   "name": "python",
   "nbconvert_exporter": "python",
   "pygments_lexer": "ipython3",
   "version": "3.7.7"
  },
  "toc": {
   "base_numbering": 1,
   "nav_menu": {},
   "number_sections": true,
   "sideBar": true,
   "skip_h1_title": false,
   "title_cell": "Table of Contents",
   "title_sidebar": "Contents",
   "toc_cell": true,
   "toc_position": {},
   "toc_section_display": true,
   "toc_window_display": false
  }
 },
 "nbformat": 4,
 "nbformat_minor": 2
}
