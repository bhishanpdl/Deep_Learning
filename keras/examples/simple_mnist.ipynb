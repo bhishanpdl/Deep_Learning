{
 "cells": [
  {
   "cell_type": "code",
   "execution_count": 1,
   "metadata": {
    "ExecuteTime": {
     "end_time": "2020-12-10T15:16:54.262687Z",
     "start_time": "2020-12-10T15:16:39.191386Z"
    }
   },
   "outputs": [
    {
     "name": "stdout",
     "output_type": "stream",
     "text": [
      "Model: \"sequential\"\n",
      "_________________________________________________________________\n",
      "Layer (type)                 Output Shape              Param #   \n",
      "=================================================================\n",
      "flatten (Flatten)            (None, 784)               0         \n",
      "_________________________________________________________________\n",
      "dense (Dense)                (None, 128)               100480    \n",
      "_________________________________________________________________\n",
      "dropout (Dropout)            (None, 128)               0         \n",
      "_________________________________________________________________\n",
      "dense_1 (Dense)              (None, 10)                1290      \n",
      "=================================================================\n",
      "Total params: 101,770\n",
      "Trainable params: 101,770\n",
      "Non-trainable params: 0\n",
      "_________________________________________________________________\n",
      "Epoch 1/5\n",
      "   1/1875 [..............................] - ETA: 0s - loss: 229.8591 - accuracy: 0.0312WARNING:tensorflow:From /Users/poudel/opt/miniconda3/envs/tf2/lib/python3.7/site-packages/tensorflow/python/ops/summary_ops_v2.py:1277: stop (from tensorflow.python.eager.profiler) is deprecated and will be removed after 2020-07-01.\n",
      "Instructions for updating:\n",
      "use `tf.profiler.experimental.stop` instead.\n",
      "WARNING:tensorflow:Callbacks method `on_train_batch_end` is slow compared to the batch time (batch time: 0.0024s vs `on_train_batch_end` time: 0.0125s). Check your callbacks.\n",
      "1853/1875 [============================>.] - ETA: 0s - loss: 2.7910 - accuracy: 0.7497\n",
      "Epoch 00001: accuracy improved from -inf to 0.75025, saving model to logs/weights-improvement-01-0.75.hdf5\n",
      "1875/1875 [==============================] - 2s 1ms/step - loss: 2.7685 - accuracy: 0.7502\n",
      "Epoch 2/5\n",
      "1860/1875 [============================>.] - ETA: 0s - loss: 0.6424 - accuracy: 0.8360\n",
      "Epoch 00002: accuracy improved from 0.75025 to 0.83622, saving model to logs/weights-improvement-02-0.84.hdf5\n",
      "1875/1875 [==============================] - 2s 1ms/step - loss: 0.6415 - accuracy: 0.8362\n",
      "Epoch 3/5\n",
      "1841/1875 [============================>.] - ETA: 0s - loss: 0.4980 - accuracy: 0.8664\n",
      "Epoch 00003: accuracy improved from 0.83622 to 0.86662, saving model to logs/weights-improvement-03-0.87.hdf5\n",
      "1875/1875 [==============================] - 2s 1ms/step - loss: 0.4964 - accuracy: 0.8666\n",
      "Epoch 4/5\n",
      "1875/1875 [==============================] - ETA: 0s - loss: 0.4340 - accuracy: 0.8863\n",
      "Epoch 00004: accuracy improved from 0.86662 to 0.88627, saving model to logs/weights-improvement-04-0.89.hdf5\n",
      "1875/1875 [==============================] - 2s 1ms/step - loss: 0.4340 - accuracy: 0.8863\n",
      "Epoch 5/5\n",
      "1845/1875 [============================>.] - ETA: 0s - loss: 0.3938 - accuracy: 0.8969\n",
      "Epoch 00005: accuracy improved from 0.88627 to 0.89692, saving model to logs/weights-improvement-05-0.90.hdf5\n",
      "1875/1875 [==============================] - 2s 1ms/step - loss: 0.3932 - accuracy: 0.8969\n",
      "313/313 - 0s - loss: 0.3093 - accuracy: 0.9347\n"
     ]
    },
    {
     "data": {
      "text/plain": [
       "[0.3092772662639618, 0.9347000122070312]"
      ]
     },
     "execution_count": 1,
     "metadata": {},
     "output_type": "execute_result"
    }
   ],
   "source": [
    "import tensorflow as tf\n",
    "from tensorflow.keras.callbacks import ModelCheckpoint\n",
    "from tensorflow.keras.callbacks import TensorBoard\n",
    "import time\n",
    "import os \n",
    "\n",
    "#load mnist dataset\n",
    "mnist = tf.keras.datasets.mnist\n",
    "(x_train, y_train), (x_test, y_test) = mnist.load_data()\n",
    "\n",
    "#create and compile the model\n",
    "model = tf.keras.models.Sequential([\n",
    "  tf.keras.layers.Flatten(input_shape=(28, 28)), \n",
    "  tf.keras.layers.Dense(128, activation='relu'), \n",
    "  tf.keras.layers.Dropout(0.2), \n",
    "  tf.keras.layers.Dense(10, activation='softmax') \n",
    "])\n",
    "model.summary()\n",
    "\n",
    "# This will work because it makes sense\n",
    "model.compile(optimizer='adam',\n",
    "              loss='sparse_categorical_crossentropy',\n",
    "              metrics=[tf.keras.metrics.SparseCategoricalAccuracy(name='accuracy'),\n",
    "                       ])\n",
    "\n",
    "\n",
    "\n",
    "#model checkpoint (only if there is an improvement)\n",
    "\n",
    "checkpoint_path = \"logs/weights-improvement-{epoch:02d}-{accuracy:.2f}.hdf5\"\n",
    "\n",
    "cp_callback = ModelCheckpoint(checkpoint_path,\n",
    "                              monitor='accuracy',\n",
    "                              save_best_only=True,\n",
    "                              verbose=1,\n",
    "                              mode='max')\n",
    "\n",
    "#Tensorboard\n",
    "NAME = \"tensorboard_{}\".format(int(time.time())) # name of the model with timestamp\n",
    "tensorboard = TensorBoard(log_dir=\"logs/{}\".format(NAME))\n",
    "\n",
    "#train the model\n",
    "history = model.fit(x_train, y_train, epochs=5,\n",
    "         callbacks=[cp_callback,tensorboard]\n",
    "         )\n",
    "\n",
    "#evaluate the model\n",
    "model.evaluate(x_test,  y_test, verbose=2)"
   ]
  },
  {
   "cell_type": "code",
   "execution_count": 2,
   "metadata": {
    "ExecuteTime": {
     "end_time": "2020-12-10T15:16:54.297841Z",
     "start_time": "2020-12-10T15:16:54.266875Z"
    }
   },
   "outputs": [
    {
     "data": {
      "text/plain": [
       "{'loss': [2.7684803009033203,\n",
       "  0.6414791941642761,\n",
       "  0.49636179208755493,\n",
       "  0.4339616894721985,\n",
       "  0.3931593894958496],\n",
       " 'accuracy': [0.750249981880188,\n",
       "  0.8362166881561279,\n",
       "  0.8666166663169861,\n",
       "  0.8862666487693787,\n",
       "  0.8969166874885559]}"
      ]
     },
     "execution_count": 2,
     "metadata": {},
     "output_type": "execute_result"
    }
   ],
   "source": [
    "history.history"
   ]
  },
  {
   "cell_type": "code",
   "execution_count": null,
   "metadata": {},
   "outputs": [],
   "source": []
  }
 ],
 "metadata": {
  "kernelspec": {
   "display_name": "Python (tf2)",
   "language": "python",
   "name": "tf2"
  },
  "language_info": {
   "codemirror_mode": {
    "name": "ipython",
    "version": 3
   },
   "file_extension": ".py",
   "mimetype": "text/x-python",
   "name": "python",
   "nbconvert_exporter": "python",
   "pygments_lexer": "ipython3",
   "version": "3.7.7"
  },
  "toc": {
   "base_numbering": 1,
   "nav_menu": {},
   "number_sections": true,
   "sideBar": true,
   "skip_h1_title": false,
   "title_cell": "Table of Contents",
   "title_sidebar": "Contents",
   "toc_cell": false,
   "toc_position": {},
   "toc_section_display": true,
   "toc_window_display": false
  }
 },
 "nbformat": 4,
 "nbformat_minor": 4
}
