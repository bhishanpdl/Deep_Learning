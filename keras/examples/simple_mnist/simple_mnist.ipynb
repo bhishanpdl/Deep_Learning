{
 "cells": [
  {
   "cell_type": "code",
   "execution_count": 14,
   "metadata": {
    "ExecuteTime": {
     "end_time": "2020-12-10T15:33:16.791859Z",
     "start_time": "2020-12-10T15:33:09.359507Z"
    }
   },
   "outputs": [
    {
     "name": "stdout",
     "output_type": "stream",
     "text": [
      "Model: \"sequential_7\"\n",
      "_________________________________________________________________\n",
      "Layer (type)                 Output Shape              Param #   \n",
      "=================================================================\n",
      "flatten_7 (Flatten)          (None, 784)               0         \n",
      "_________________________________________________________________\n",
      "dense_14 (Dense)             (None, 128)               100480    \n",
      "_________________________________________________________________\n",
      "dropout_7 (Dropout)          (None, 128)               0         \n",
      "_________________________________________________________________\n",
      "dense_15 (Dense)             (None, 10)                1290      \n",
      "=================================================================\n",
      "Total params: 101,770\n",
      "Trainable params: 101,770\n",
      "Non-trainable params: 0\n",
      "_________________________________________________________________\n",
      "Epoch 1/3\n",
      "   1/1875 [..............................] - ETA: 0s - loss: 201.9427 - accuracy: 0.0625WARNING:tensorflow:Callbacks method `on_train_batch_end` is slow compared to the batch time (batch time: 0.0012s vs `on_train_batch_end` time: 0.0283s). Check your callbacks.\n",
      "1832/1875 [============================>.] - ETA: 0s - loss: 2.6850 - accuracy: 0.7463\n",
      "Epoch 00001: accuracy improved from -inf to 0.74828, saving model to logs/weights-improvement-01-0.75.hdf5\n",
      "1875/1875 [==============================] - 2s 1ms/step - loss: 2.6390 - accuracy: 0.7483\n",
      "Epoch 2/3\n",
      "1851/1875 [============================>.] - ETA: 0s - loss: 0.5951 - accuracy: 0.8431\n",
      "Epoch 00002: accuracy improved from 0.74828 to 0.84317, saving model to logs/weights-improvement-02-0.84.hdf5\n",
      "1875/1875 [==============================] - 2s 1ms/step - loss: 0.5944 - accuracy: 0.8432\n",
      "Epoch 3/3\n",
      "1857/1875 [============================>.] - ETA: 0s - loss: 0.4636 - accuracy: 0.8758\n",
      "Epoch 00003: accuracy improved from 0.84317 to 0.87602, saving model to logs/weights-improvement-03-0.88.hdf5\n",
      "1875/1875 [==============================] - 2s 1ms/step - loss: 0.4635 - accuracy: 0.8760\n",
      "313/313 - 0s - loss: 0.3630 - accuracy: 0.9205\n"
     ]
    },
    {
     "data": {
      "text/plain": [
       "[0.3630019724369049, 0.9204999804496765]"
      ]
     },
     "execution_count": 14,
     "metadata": {},
     "output_type": "execute_result"
    }
   ],
   "source": [
    "import tensorflow as tf\n",
    "from tensorflow.keras.callbacks import ModelCheckpoint\n",
    "from tensorflow.keras.callbacks import TensorBoard\n",
    "import time\n",
    "import os \n",
    "\n",
    "# load mnist dataset\n",
    "mnist = tf.keras.datasets.mnist\n",
    "(x_train, y_train), (x_test, y_test) = mnist.load_data()\n",
    "\n",
    "# create and compile the model\n",
    "model = tf.keras.models.Sequential([\n",
    "  tf.keras.layers.Flatten(input_shape=(28, 28)), \n",
    "  tf.keras.layers.Dense(128, activation='relu'), \n",
    "  tf.keras.layers.Dropout(0.2), \n",
    "  tf.keras.layers.Dense(10, activation='softmax') \n",
    "])\n",
    "model.summary()\n",
    "\n",
    "# compile\n",
    "model.compile(optimizer='adam',\n",
    "              loss='sparse_categorical_crossentropy',\n",
    "              metrics=[\n",
    "                  tf.keras.metrics.SparseCategoricalAccuracy(name='accuracy'),\n",
    "                       ])\n",
    "\n",
    "# model checkpoint (only if there is an improvement)\n",
    "log_dir = 'logs'\n",
    "os.makedirs(log_dir,exist_ok=True)\n",
    "checkpoint_path = log_dir + \"/weights-improvement-{epoch:02d}-{accuracy:.2f}.hdf5\"\n",
    "\n",
    "cp_callback = ModelCheckpoint(checkpoint_path,\n",
    "                              monitor='accuracy',\n",
    "                              save_best_only=True,\n",
    "                              verbose=1,\n",
    "                              mode='max')\n",
    "\n",
    "#Tensorboard\n",
    "log_name = time.strftime(\"%Y-%m-%d-%H-%M-%S\")\n",
    "tensorboard = TensorBoard(log_dir=\"logs/{}\".format(log_name))\n",
    "\n",
    "#train the model\n",
    "history = model.fit(x_train, y_train, epochs=3,\n",
    "         callbacks=[cp_callback,tensorboard]\n",
    "         )\n",
    "\n",
    "#evaluate the model\n",
    "model.evaluate(x_test,  y_test, verbose=2)"
   ]
  },
  {
   "cell_type": "code",
   "execution_count": 2,
   "metadata": {
    "ExecuteTime": {
     "end_time": "2020-12-10T15:20:28.803852Z",
     "start_time": "2020-12-10T15:20:28.799513Z"
    }
   },
   "outputs": [
    {
     "data": {
      "text/plain": [
       "{'loss': [2.788278579711914,\n",
       "  0.598998486995697,\n",
       "  0.48749154806137085,\n",
       "  0.4440361559391022,\n",
       "  0.41106343269348145],\n",
       " 'accuracy': [0.755466639995575,\n",
       "  0.8445000052452087,\n",
       "  0.8682000041007996,\n",
       "  0.881766676902771,\n",
       "  0.8911333084106445]}"
      ]
     },
     "execution_count": 2,
     "metadata": {},
     "output_type": "execute_result"
    }
   ],
   "source": [
    "history.history"
   ]
  },
  {
   "cell_type": "code",
   "execution_count": null,
   "metadata": {},
   "outputs": [],
   "source": [
    "# go to terminal and run the command\n",
    "# tensorboard --logdir logs"
   ]
  }
 ],
 "metadata": {
  "kernelspec": {
   "display_name": "Python (tf2)",
   "language": "python",
   "name": "tf2"
  },
  "language_info": {
   "codemirror_mode": {
    "name": "ipython",
    "version": 3
   },
   "file_extension": ".py",
   "mimetype": "text/x-python",
   "name": "python",
   "nbconvert_exporter": "python",
   "pygments_lexer": "ipython3",
   "version": "3.7.7"
  },
  "toc": {
   "base_numbering": 1,
   "nav_menu": {},
   "number_sections": true,
   "sideBar": true,
   "skip_h1_title": false,
   "title_cell": "Table of Contents",
   "title_sidebar": "Contents",
   "toc_cell": false,
   "toc_position": {},
   "toc_section_display": true,
   "toc_window_display": false
  }
 },
 "nbformat": 4,
 "nbformat_minor": 4
}
